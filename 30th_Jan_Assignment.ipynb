{
 "cells": [
  {
   "cell_type": "code",
   "execution_count": 1,
   "id": "1fe3a45f-b504-469e-97d1-da138e1bf89d",
   "metadata": {},
   "outputs": [],
   "source": [
    "# Write a program to accept percentage from the user and display the grade according to the following \n",
    "# criteria: \n",
    "# Marks \n",
    "# Grade \n",
    "# >90 \n",
    "# A \n",
    "# >80 and <=90 \n",
    "# B \n",
    "# >=60 and <=80 \n",
    "# C \n",
    "# below 60 \n",
    "# D"
   ]
  },
  {
   "cell_type": "code",
   "execution_count": 2,
   "id": "2a3e0cf8-7ff5-47e0-ab52-5dc223beba18",
   "metadata": {},
   "outputs": [
    {
     "name": "stdin",
     "output_type": "stream",
     "text": [
      "Enter percentage:  81\n"
     ]
    },
    {
     "name": "stdout",
     "output_type": "stream",
     "text": [
      "Grade: B\n"
     ]
    }
   ],
   "source": [
    "percentage = float(input(\"Enter percentage: \"))\n",
    "\n",
    "if percentage > 90:\n",
    "    grade = \"A\"\n",
    "elif percentage > 80:\n",
    "    grade = \"B\"\n",
    "elif percentage >= 60:\n",
    "    grade = \"C\"\n",
    "else:\n",
    "    grade = \"D\"\n",
    "\n",
    "print(\"Grade:\", grade)\n"
   ]
  },
  {
   "cell_type": "code",
   "execution_count": null,
   "id": "044cd4cf-5936-41dd-991f-78aa4bc8f158",
   "metadata": {},
   "outputs": [],
   "source": []
  },
  {
   "cell_type": "code",
   "execution_count": null,
   "id": "a368f400-ac84-477e-b918-5dae4e3fe008",
   "metadata": {},
   "outputs": [],
   "source": []
  },
  {
   "cell_type": "code",
   "execution_count": null,
   "id": "cba35a1b-64e0-4c88-b86e-6b07cdc81b56",
   "metadata": {},
   "outputs": [],
   "source": []
  },
  {
   "cell_type": "code",
   "execution_count": 4,
   "id": "2fc22896-a5ed-42f0-8c90-ee0a57c53afa",
   "metadata": {},
   "outputs": [],
   "source": [
    "# Write a program to accept the cost price of a bike and display the road tax to be paid according to the \n",
    "# following criteria: \n",
    "#     Tax          Cost Price(in Rs.)\n",
    "#     15%             >100000 \n",
    "#     10%             50000 and <= 100000 \n",
    "#     5%              <= 50000 \n",
    "    "
   ]
  },
  {
   "cell_type": "code",
   "execution_count": 5,
   "id": "09ccc2f1-c4ce-484d-9443-66cd433306cb",
   "metadata": {},
   "outputs": [
    {
     "name": "stdin",
     "output_type": "stream",
     "text": [
      "Enter cost price of bike (in Rs.):  55000\n"
     ]
    },
    {
     "name": "stdout",
     "output_type": "stream",
     "text": [
      "Road tax to be paid (in Rs.): 5500.0\n"
     ]
    }
   ],
   "source": [
    "cost_price = float(input(\"Enter cost price of bike (in Rs.): \"))\n",
    "\n",
    "if cost_price > 100000:\n",
    "    road_tax = 0.15 * cost_price\n",
    "elif cost_price > 50000:\n",
    "    road_tax = 0.1 * cost_price\n",
    "else:\n",
    "    road_tax = 0.05 * cost_price\n",
    "\n",
    "print(\"Road tax to be paid (in Rs.):\", road_tax)\n"
   ]
  },
  {
   "cell_type": "code",
   "execution_count": null,
   "id": "231e5453-4781-4c03-a569-37ffc24616c3",
   "metadata": {},
   "outputs": [],
   "source": []
  },
  {
   "cell_type": "code",
   "execution_count": null,
   "id": "83da346c-df47-4ea2-8899-375068063249",
   "metadata": {},
   "outputs": [],
   "source": []
  },
  {
   "cell_type": "code",
   "execution_count": null,
   "id": "2b20fd2f-1c49-4503-a492-ca01c12d3930",
   "metadata": {},
   "outputs": [],
   "source": []
  },
  {
   "cell_type": "code",
   "execution_count": 2,
   "id": "00797e42-f7c7-4fc8-8817-a12df8e7b938",
   "metadata": {},
   "outputs": [],
   "source": [
    "# Accept any city from the user and display monuments of that city\n",
    "#       City        Monument\n",
    "#      Delhi        Red Fort \n",
    "#      Agra         Taj Mahal \n",
    "#      Jaipur       Jal Mahal"
   ]
  },
  {
   "cell_type": "code",
   "execution_count": 3,
   "id": "0b97c357-a309-48ef-a2b9-78dc36ab0222",
   "metadata": {},
   "outputs": [
    {
     "name": "stdin",
     "output_type": "stream",
     "text": [
      "Enter city name:  Delhi\n"
     ]
    },
    {
     "name": "stdout",
     "output_type": "stream",
     "text": [
      "Monument of Delhi is Red Fort\n"
     ]
    }
   ],
   "source": [
    "city_monument = {\n",
    "    \"Delhi\": \"Red Fort\",\n",
    "    \"Agra\": \"Taj Mahal\",\n",
    "    \"Jaipur\": \"Jal Mahal\"\n",
    "}\n",
    "\n",
    "city = input(\"Enter city name: \")\n",
    "\n",
    "if city in city_monument:\n",
    "    print(\"Monument of\", city, \"is\", city_monument[city])\n",
    "else:\n",
    "    print(\"Sorry, we don't have information about monuments in\", city)"
   ]
  },
  {
   "cell_type": "code",
   "execution_count": null,
   "id": "84c0bb7b-7beb-4074-8c78-c573abf75ddd",
   "metadata": {},
   "outputs": [],
   "source": []
  },
  {
   "cell_type": "code",
   "execution_count": null,
   "id": "ff4ba267-56b8-4436-8e16-e725a5a4c64c",
   "metadata": {},
   "outputs": [],
   "source": []
  },
  {
   "cell_type": "code",
   "execution_count": null,
   "id": "e0093e90-d283-4810-9e12-5c90d621ecfe",
   "metadata": {},
   "outputs": [],
   "source": []
  },
  {
   "cell_type": "code",
   "execution_count": null,
   "id": "3a89baad-708c-4200-a02a-0072e60b2968",
   "metadata": {},
   "outputs": [],
   "source": [
    " # Check how many times a given number can be divided by 3 before it is less than or equal to 10. "
   ]
  },
  {
   "cell_type": "code",
   "execution_count": 6,
   "id": "8f85bfff-85fb-41cd-9480-9991e50dcabc",
   "metadata": {},
   "outputs": [
    {
     "name": "stdin",
     "output_type": "stream",
     "text": [
      "Enter a number:  90\n"
     ]
    },
    {
     "name": "stdout",
     "output_type": "stream",
     "text": [
      "The number can be divided by three - 2 times - before it is less than or equal to 10.\n"
     ]
    }
   ],
   "source": [
    "number = int(input(\"Enter a number: \"))\n",
    "count = 0\n",
    "\n",
    "while number > 10:\n",
    "    number /= 3\n",
    "    count += 1\n",
    "\n",
    "print(\"The number can be divided by three -\", count, \"times - before it is less than or equal to 10.\")"
   ]
  },
  {
   "cell_type": "code",
   "execution_count": null,
   "id": "c99dea16-cc97-4383-ade2-d44bbe69ce3c",
   "metadata": {},
   "outputs": [],
   "source": []
  },
  {
   "cell_type": "code",
   "execution_count": null,
   "id": "04a86aa5-b261-4194-b693-ca4708a0dcde",
   "metadata": {},
   "outputs": [],
   "source": []
  },
  {
   "cell_type": "code",
   "execution_count": null,
   "id": "52bc3195-a71a-47f5-b22b-7d9982308520",
   "metadata": {},
   "outputs": [],
   "source": []
  },
  {
   "cell_type": "code",
   "execution_count": 7,
   "id": "c8ebfa59-5a6e-4333-928f-8b0fb5ad46a7",
   "metadata": {},
   "outputs": [],
   "source": [
    "# 5. Why and When to Use while Loop in Python give a detailed description with example"
   ]
  },
  {
   "cell_type": "code",
   "execution_count": 8,
   "id": "2b5cedab-ccce-42b4-a92c-837fc08a81ef",
   "metadata": {},
   "outputs": [],
   "source": [
    "# A while loop is a control flow statement in Python that allows you to repeatedly execute a block of code as long as a certain condition is true. \n",
    "# It is useful when you want to repeat an operation until a specific condition is met.\n",
    "\n",
    "# The syntax of a while loop is as follows:\n",
    "    \n",
    "# while condition:\n",
    "#     # Code to execute while condition is true\n",
    "\n",
    "# The condition is a Boolean expression that is checked at the start of each iteration of the loop. \n",
    "# If the condition is true, the code inside the loop is executed. This continues until the condition becomes false, \n",
    "# at which point the loop exits and the program continues to the next statement.\n",
    "\n",
    "# Here is an example of a while loop that prints out the numbers 1 through 5:\n",
    "    \n",
    "# i = 1\n",
    "# while i <= 5:\n",
    "#     print(i)\n",
    "#     i += 1\n",
    "\n",
    "# In this example, the loop starts with i = 1. \n",
    "# The condition i <= 5 is true, so the code inside the loop is executed, which prints out the value of i. \n",
    "# The loop then increments i by 1 and checks the condition again. This continues until i reaches 6, \n",
    "# at which point the condition is false and the loop exits."
   ]
  },
  {
   "cell_type": "code",
   "execution_count": null,
   "id": "c19269e3-c3eb-4ae4-bdf4-d26ab8d77eb6",
   "metadata": {},
   "outputs": [],
   "source": []
  },
  {
   "cell_type": "code",
   "execution_count": null,
   "id": "51480f24-59b8-4de0-ab16-08a8b8301791",
   "metadata": {},
   "outputs": [],
   "source": []
  },
  {
   "cell_type": "code",
   "execution_count": null,
   "id": "a6e224b9-e6c0-4c39-a97b-c89f14c624cc",
   "metadata": {},
   "outputs": [],
   "source": []
  },
  {
   "cell_type": "code",
   "execution_count": 10,
   "id": "61f0ed8b-0bee-466d-8b72-82583ddfef0b",
   "metadata": {},
   "outputs": [],
   "source": [
    "# 6. Use nested while loop to print 3 different pattern."
   ]
  },
  {
   "cell_type": "code",
   "execution_count": 11,
   "id": "cd267a16-2c37-4b59-8bf8-d9ba542bb527",
   "metadata": {},
   "outputs": [
    {
     "name": "stdout",
     "output_type": "stream",
     "text": [
      "1\n",
      "12\n",
      "123\n",
      "1234\n",
      "12345\n"
     ]
    }
   ],
   "source": [
    "i = 1\n",
    "while i <= 5:\n",
    "    j = 1\n",
    "    while j <= i:\n",
    "        print(j, end=\"\")\n",
    "        j += 1\n",
    "    print()\n",
    "    i += 1"
   ]
  },
  {
   "cell_type": "code",
   "execution_count": 12,
   "id": "7232789b-7778-4050-9c52-1ced7b1d7c97",
   "metadata": {},
   "outputs": [
    {
     "name": "stdout",
     "output_type": "stream",
     "text": [
      "*****\n",
      "****\n",
      "***\n",
      "**\n",
      "*\n"
     ]
    }
   ],
   "source": [
    "i = 5\n",
    "while i >= 1:\n",
    "    j = 1\n",
    "    while j <= i:\n",
    "        print(\"*\", end=\"\")\n",
    "        j += 1\n",
    "    print()\n",
    "    i -= 1"
   ]
  },
  {
   "cell_type": "code",
   "execution_count": 13,
   "id": "78db7657-2276-4881-8ea9-705e3b2b3ee0",
   "metadata": {},
   "outputs": [
    {
     "name": "stdout",
     "output_type": "stream",
     "text": [
      "1\n",
      "22\n",
      "333\n",
      "4444\n",
      "55555\n"
     ]
    }
   ],
   "source": [
    "i = 1\n",
    "while i <= 5:\n",
    "    j = 1\n",
    "    while j <= i:\n",
    "        print(i, end=\"\")\n",
    "        j += 1\n",
    "    print()\n",
    "    i += 1"
   ]
  },
  {
   "cell_type": "code",
   "execution_count": null,
   "id": "be84da9c-33ca-4438-8d1f-7e66b848f4f2",
   "metadata": {},
   "outputs": [],
   "source": []
  },
  {
   "cell_type": "code",
   "execution_count": null,
   "id": "58315933-0c38-45da-b3fb-6accf4ac105d",
   "metadata": {},
   "outputs": [],
   "source": []
  },
  {
   "cell_type": "code",
   "execution_count": null,
   "id": "16b9892b-d508-4426-8996-aa1761b36f32",
   "metadata": {},
   "outputs": [],
   "source": []
  },
  {
   "cell_type": "code",
   "execution_count": null,
   "id": "2c3ebd68-7837-437e-889b-d3868f7e0ccc",
   "metadata": {},
   "outputs": [],
   "source": []
  },
  {
   "cell_type": "code",
   "execution_count": null,
   "id": "c9a3b6fd-162c-456d-8681-a9250b69f383",
   "metadata": {},
   "outputs": [],
   "source": []
  },
  {
   "cell_type": "code",
   "execution_count": null,
   "id": "9ce240c4-1f03-4867-958f-a088ddec1992",
   "metadata": {},
   "outputs": [],
   "source": []
  },
  {
   "cell_type": "code",
   "execution_count": null,
   "id": "83aeb09a-a9da-4352-bb80-a93317dac012",
   "metadata": {},
   "outputs": [],
   "source": []
  },
  {
   "cell_type": "code",
   "execution_count": null,
   "id": "57afe6ba-4bab-4c09-bc38-3fa470f70a83",
   "metadata": {},
   "outputs": [],
   "source": []
  },
  {
   "cell_type": "code",
   "execution_count": null,
   "id": "a5e0a50f-3fe0-452e-9139-3a9b8d8a1d52",
   "metadata": {},
   "outputs": [],
   "source": []
  },
  {
   "cell_type": "code",
   "execution_count": 14,
   "id": "b872db49-dcb4-41f9-bbc0-23bcfa429188",
   "metadata": {},
   "outputs": [],
   "source": [
    "# 7. Reverse a while loop to display numbers from 10 to 1."
   ]
  },
  {
   "cell_type": "code",
   "execution_count": 15,
   "id": "83ed06e1-cdce-4f57-a897-94cc64b2c2dc",
   "metadata": {},
   "outputs": [
    {
     "name": "stdout",
     "output_type": "stream",
     "text": [
      "10\n",
      "9\n",
      "8\n",
      "7\n",
      "6\n",
      "5\n",
      "4\n",
      "3\n",
      "2\n",
      "1\n"
     ]
    }
   ],
   "source": [
    "i = 10\n",
    "while i >= 1:\n",
    "    print(i)\n",
    "    i -= 1"
   ]
  }
 ],
 "metadata": {
  "kernelspec": {
   "display_name": "Python 3 (ipykernel)",
   "language": "python",
   "name": "python3"
  },
  "language_info": {
   "codemirror_mode": {
    "name": "ipython",
    "version": 3
   },
   "file_extension": ".py",
   "mimetype": "text/x-python",
   "name": "python",
   "nbconvert_exporter": "python",
   "pygments_lexer": "ipython3",
   "version": "3.10.8"
  }
 },
 "nbformat": 4,
 "nbformat_minor": 5
}
